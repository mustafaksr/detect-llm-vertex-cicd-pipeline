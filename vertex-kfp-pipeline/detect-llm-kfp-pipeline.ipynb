{
 "cells": [
  {
   "cell_type": "code",
   "execution_count": null,
   "id": "a076d292-8ddd-46f0-9d5c-886b7c566533",
   "metadata": {},
   "outputs": [],
   "source": [
    " pip install kfp==1.8.22 protobuf==3.19.0"
   ]
  },
  {
   "cell_type": "code",
   "execution_count": null,
   "id": "588fa7e5-ffe4-4045-9f73-9e210d77e680",
   "metadata": {},
   "outputs": [],
   "source": [
    "from google.cloud import aiplatform"
   ]
  },
  {
   "cell_type": "code",
   "execution_count": null,
   "id": "f3472c1b-db8e-414a-87ae-e40b3a9ccdb6",
   "metadata": {},
   "outputs": [],
   "source": [
    "REGION = \"us-central1\"\n",
    "PROJECT_ID = !(gcloud config get-value project)\n",
    "PROJECT_ID = PROJECT_ID[0]"
   ]
  },
  {
   "cell_type": "code",
   "execution_count": null,
   "id": "0635f161-7436-43b8-9130-bfd27fa93d3d",
   "metadata": {},
   "outputs": [],
   "source": [
    "# Set `PATH` to include the directory containing KFP CLI\n",
    "PATH = %env PATH\n",
    "%env PATH=/home/desktop/.local/bin:{PATH}"
   ]
  },
  {
   "cell_type": "code",
   "execution_count": null,
   "id": "a67db67b-c8cd-4c21-95a9-c0e3acf11f82",
   "metadata": {},
   "outputs": [],
   "source": [
    "IMAGE_NAME = \"detect_llm_trainer_image\"\n",
    "TAG = \"latest\"\n",
    "TRAINING_CONTAINER_IMAGE_URI = f\"gcr.io/{PROJECT_ID}/{IMAGE_NAME}:{TAG}\"\n",
    "TRAINING_CONTAINER_IMAGE_URI"
   ]
  },
  {
   "cell_type": "code",
   "execution_count": null,
   "id": "9d6541dd-2a72-4c9f-b007-fb23128323bc",
   "metadata": {},
   "outputs": [],
   "source": [
    "TRAINING_CONTAINER_IMAGE_URI"
   ]
  },
  {
   "cell_type": "code",
   "execution_count": null,
   "id": "5d52b7ad-6097-495b-8a19-8f7728f4a383",
   "metadata": {},
   "outputs": [],
   "source": [
    "ls"
   ]
  },
  {
   "cell_type": "code",
   "execution_count": null,
   "id": "8773fc91-9f7c-415a-bf9e-1158b8a1360b",
   "metadata": {
    "scrolled": true
   },
   "outputs": [],
   "source": [
    "!gcloud builds submit --timeout 15m --tag $TRAINING_CONTAINER_IMAGE_URI detect_llm_vertex_trainer"
   ]
  },
  {
   "cell_type": "code",
   "execution_count": null,
   "id": "45ff737d-75a0-4347-8f4d-3fe9a926f7e8",
   "metadata": {},
   "outputs": [],
   "source": [
    "\n",
    "SERVING_CONTAINER_IMAGE_URI = (\n",
    "    \"us-docker.pkg.dev/vertex-ai/prediction/tf2-cpu.2-13:latest\"\n",
    ")\n"
   ]
  },
  {
   "cell_type": "code",
   "execution_count": null,
   "id": "8204902c-5415-4a86-b728-5ffd37a8cfb7",
   "metadata": {},
   "outputs": [],
   "source": [
    "from pipeline_vertex.training_lightweight_component import train_and_deploy\n",
    "from pipeline_vertex.tuning_lightweight_component import tune_hyperparameters"
   ]
  },
  {
   "cell_type": "code",
   "execution_count": null,
   "id": "75d7b65d-96b9-4606-8e75-d6351b5ce2e5",
   "metadata": {},
   "outputs": [],
   "source": [
    "%%writefile ./pipeline_vertex/pipeline.py\n",
    "# Copyright 2021 Google LLC\n",
    "\n",
    "# Licensed under the Apache License, Version 2.0 (the \"License\"); you may not\n",
    "# use this file except in compliance with the License. You may obtain a copy of\n",
    "# the License at\n",
    "\n",
    "# https://www.apache.org/licenses/LICENSE-2.0\n",
    "\n",
    "# Unless required by applicable law or agreed to in writing, software\n",
    "# distributed under the License is distributed on an \"AS IS\"\n",
    "# BASIS, WITHOUT WARRANTIES OR CONDITIONS OF ANY KIND, either\n",
    "# express or implied. See the License for the specific language governing\n",
    "# permissions and limitations under the License.\n",
    "\"\"\"Kubeflow Detect LLM Pipeline.\"\"\"\n",
    "import os\n",
    "\n",
    "from kfp import dsl\n",
    "from training_lightweight_component import train_and_deploy\n",
    "from tuning_lightweight_component import tune_hyperparameters\n",
    "\n",
    "PIPELINE_ROOT = os.getenv(\"PIPELINE_ROOT\")\n",
    "PROJECT_ID = os.getenv(\"PROJECT_ID\")\n",
    "REGION = os.getenv(\"REGION\")\n",
    "\n",
    "TRAINING_CONTAINER_IMAGE_URI = os.getenv(\"TRAINING_CONTAINER_IMAGE_URI\")\n",
    "SERVING_CONTAINER_IMAGE_URI = os.getenv(\"SERVING_CONTAINER_IMAGE_URI\")\n",
    "\n",
    "TRAINING_FILE_PATH = os.getenv(\"TRAINING_FILE_PATH\")\n",
    "VALIDATION_FILE_PATH = os.getenv(\"VALIDATION_FILE_PATH\")\n",
    "TEST_FILE_PATH = os.getenv(\"TEST_FILE_PATH\")\n",
    "\n",
    "\n",
    "MAX_TRIAL_COUNT = int(os.getenv(\"MAX_TRIAL_COUNT\", \"1\"))\n",
    "PARALLEL_TRIAL_COUNT = int(os.getenv(\"PARALLEL_TRIAL_COUNT\", \"1\"))\n",
    "THRESHOLD = float(os.getenv(\"THRESHOLD\", \"0.8\"))\n",
    "\n",
    "@dsl.pipeline(\n",
    "    name=\"detect-llm-kfp-pipeline\",\n",
    "    description=\"The pipeline training and deploying the detect_llm classifier\",\n",
    "    pipeline_root=PIPELINE_ROOT,\n",
    ")\n",
    "def detect_llm_train(\n",
    "    training_container_uri: str = TRAINING_CONTAINER_IMAGE_URI,\n",
    "    serving_container_uri: str = SERVING_CONTAINER_IMAGE_URI,\n",
    "    training_file_path: str = TRAINING_FILE_PATH,\n",
    "    validation_file_path: str = VALIDATION_FILE_PATH,\n",
    "    test_file_path: str = TEST_FILE_PATH,\n",
    "    auc_deployment_threshold: float = THRESHOLD,\n",
    "    max_trial_count: int = MAX_TRIAL_COUNT,\n",
    "    parallel_trial_count: int = PARALLEL_TRIAL_COUNT,\n",
    "    pipeline_root: str = PIPELINE_ROOT,\n",
    "):\n",
    "    staging_bucket = f\"{pipeline_root}/staging\"\n",
    "\n",
    "    tuning_op = tune_hyperparameters(\n",
    "        project=PROJECT_ID,\n",
    "        location=REGION,\n",
    "        container_uri=training_container_uri,\n",
    "        training_file_path=training_file_path,\n",
    "        validation_file_path=validation_file_path,\n",
    "        test_file_path=test_file_path,\n",
    "        \n",
    "        staging_bucket=staging_bucket,\n",
    "        max_trial_count=max_trial_count,\n",
    "        parallel_trial_count=parallel_trial_count,\n",
    "    )\n",
    "\n",
    "    auc = tuning_op.outputs[\"best_roc_auc\"]\n",
    "\n",
    "    with dsl.Condition(\n",
    "        auc >= auc_deployment_threshold, name=\"deploy_decision\"\n",
    "    ):\n",
    "        train_and_deploy_op = (  # pylint: disable=unused-variable\n",
    "            train_and_deploy(\n",
    "                project=PROJECT_ID,\n",
    "                location=REGION,\n",
    "                container_uri=training_container_uri,\n",
    "                serving_container_uri=serving_container_uri,\n",
    "                training_file_path=training_file_path,\n",
    "                validation_file_path=validation_file_path,\n",
    "                test_file_path=test_file_path,\n",
    "                staging_bucket=staging_bucket,\n",
    "                dropout=tuning_op.outputs[\"best_dropout\"],\n",
    "                embedding_dim=tuning_op.outputs[\"best_embedding_dim\"],\n",
    "                hidden_dim=tuning_op.outputs[\"best_hidden_dim\"],\n",
    "                max_features=tuning_op.outputs[\"best_max_features\"],\n",
    "                sequence_length=tuning_op.outputs[\"best_sequence_length\"],\n",
    "            )\n",
    "        )"
   ]
  },
  {
   "cell_type": "code",
   "execution_count": null,
   "id": "4a774fe5-39b8-48dd-a06f-a88ef48a612a",
   "metadata": {},
   "outputs": [],
   "source": [
    "ARTIFACT_STORE = f\"gs://{PROJECT_ID}-kfp-artifact-store\"\n",
    "PIPELINE_ROOT = f\"{ARTIFACT_STORE}/pipeline\"\n",
    "DATA_ROOT = f\"{ARTIFACT_STORE}/data\"\n",
    "\n",
    "TRAINING_FILE_PATH = f\"{DATA_ROOT}/training/train_df.csv\"\n",
    "VALIDATION_FILE_PATH = f\"{DATA_ROOT}/validation/validation_df.csv\"\n",
    "TEST_FILE_PATH = f\"{DATA_ROOT}/test/test_df.csv\"      \n",
    "\n",
    "%env PIPELINE_ROOT={PIPELINE_ROOT}\n",
    "%env PROJECT_ID={PROJECT_ID}\n",
    "%env REGION={REGION}\n",
    "%env SERVING_CONTAINER_IMAGE_URI={SERVING_CONTAINER_IMAGE_URI}\n",
    "%env TRAINING_CONTAINER_IMAGE_URI={TRAINING_CONTAINER_IMAGE_URI}\n",
    "%env TRAINING_FILE_PATH={TRAINING_FILE_PATH}\n",
    "%env VALIDATION_FILE_PATH={VALIDATION_FILE_PATH}\n",
    "%env TEST_FILE_PATH={TEST_FILE_PATH}"
   ]
  },
  {
   "cell_type": "code",
   "execution_count": null,
   "id": "6f32ec2d-4936-425e-aa0e-6885ad47df25",
   "metadata": {},
   "outputs": [],
   "source": [
    "!gsutil ls | grep ^{ARTIFACT_STORE}/$ || gsutil mb -l {REGION} {ARTIFACT_STORE}"
   ]
  },
  {
   "cell_type": "code",
   "execution_count": null,
   "id": "3503ccc4-1ce8-4ff7-9250-dce9d5bb2a49",
   "metadata": {},
   "outputs": [],
   "source": [
    "!gsutil -m cp -r gs://{PROJECT_ID}/detect-llm/data/* {DATA_ROOT}"
   ]
  },
  {
   "cell_type": "code",
   "execution_count": null,
   "id": "cb0bb046-f09a-427f-a2da-ae989f335142",
   "metadata": {},
   "outputs": [],
   "source": [
    "!gsutil ls  {DATA_ROOT}"
   ]
  },
  {
   "cell_type": "code",
   "execution_count": null,
   "id": "8d22742e-32e9-4603-95dd-c87b357f271e",
   "metadata": {},
   "outputs": [],
   "source": [
    "PIPELINE_JSON = \"detect_llm_kfp_pipeline.json\""
   ]
  },
  {
   "cell_type": "code",
   "execution_count": null,
   "id": "b4849ba0-1bb7-412e-af27-41425c358df3",
   "metadata": {},
   "outputs": [],
   "source": [
    "!dsl-compile-v2 --py pipeline_vertex/pipeline.py --output $PIPELINE_JSON"
   ]
  },
  {
   "cell_type": "code",
   "execution_count": null,
   "id": "6dde3b47-7b82-45dc-81e8-b8b001301fb4",
   "metadata": {},
   "outputs": [],
   "source": [
    "!head {PIPELINE_JSON}"
   ]
  },
  {
   "cell_type": "code",
   "execution_count": null,
   "id": "648839fa-991e-40f4-aaf3-76bac6f4baac",
   "metadata": {},
   "outputs": [],
   "source": [
    "import os"
   ]
  },
  {
   "cell_type": "code",
   "execution_count": null,
   "id": "9b14023b-4992-4161-92f2-03171b649c95",
   "metadata": {},
   "outputs": [],
   "source": [
    "aiplatform.init(project=PROJECT_ID, location=REGION)\n",
    "\n",
    "pipeline = aiplatform.PipelineJob(\n",
    "    display_name=\"detect_llm_kfp_pipeline\",\n",
    "    template_path=PIPELINE_JSON,\n",
    "    enable_caching=False,\n",
    ")\n",
    "\n",
    "pipeline.run()"
   ]
  },
  {
   "cell_type": "code",
   "execution_count": null,
   "id": "5983b7e1-28d1-45f3-b486-56e05df03533",
   "metadata": {},
   "outputs": [],
   "source": [
    "from google.cloud import aiplatform\n",
    "REGION = \"us-central1\"\n",
    "PROJECT_ID = !(gcloud config get-value project)\n",
    "PROJECT_ID = PROJECT_ID[0]"
   ]
  },
  {
   "cell_type": "code",
   "execution_count": null,
   "id": "a4ec153e-2627-483c-b631-c757d6f5638e",
   "metadata": {},
   "outputs": [],
   "source": [
    "PROJECT_NUMBER = !(gcloud projects describe $PROJECT_ID --format=\"value(projectNumber)\")\n",
    "PROJECT_NUMBER = PROJECT_NUMBER[0]"
   ]
  },
  {
   "cell_type": "code",
   "execution_count": null,
   "id": "94b68027-981f-460f-8187-ec0fa7835f2b",
   "metadata": {},
   "outputs": [],
   "source": [
    "!gcloud ai endpoints list --region=$REGION"
   ]
  },
  {
   "cell_type": "code",
   "execution_count": null,
   "id": "f8b419c5-7bd3-4716-909c-d998c820d5c9",
   "metadata": {},
   "outputs": [],
   "source": [
    "endpoint_id=!(gcloud ai endpoints list --region=us-central1 | awk 'NR>1 {print $1}')\n",
    "endpoint_id=int(endpoint_id[1])\n",
    "endpoint = aiplatform.Endpoint(f'projects/{PROJECT_NUMBER}/locations/{REGION}/endpoints/{endpoint_id}')"
   ]
  },
  {
   "cell_type": "code",
   "execution_count": null,
   "id": "f74db219-61c1-47de-b7b7-e951ddd1250b",
   "metadata": {},
   "outputs": [],
   "source": [
    "endpoint.predict([[\"Sample text to predict, this is not generated text but we need student article text to test.\"]])"
   ]
  },
  {
   "cell_type": "code",
   "execution_count": null,
   "id": "81789d8d-e96b-44f4-ab46-80c5e5c855a1",
   "metadata": {},
   "outputs": [],
   "source": [
    "endpoint.undeploy_all()"
   ]
  },
  {
   "cell_type": "code",
   "execution_count": null,
   "id": "642d60f5-d4bd-4d56-9b96-151b5d835e65",
   "metadata": {},
   "outputs": [],
   "source": []
  }
 ],
 "metadata": {
  "kernelspec": {
   "display_name": "Python 3 (ipykernel)",
   "language": "python",
   "name": "python3"
  },
  "language_info": {
   "codemirror_mode": {
    "name": "ipython",
    "version": 3
   },
   "file_extension": ".py",
   "mimetype": "text/x-python",
   "name": "python",
   "nbconvert_exporter": "python",
   "pygments_lexer": "ipython3",
   "version": "3.11.5"
  }
 },
 "nbformat": 4,
 "nbformat_minor": 5
}
